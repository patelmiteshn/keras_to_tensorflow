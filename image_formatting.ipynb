{
 "cells": [
  {
   "cell_type": "code",
   "execution_count": null,
   "metadata": {},
   "outputs": [],
   "source": [
    "import sys\n",
    "import numpy as np\n",
    "import cv2\n",
    "import pickle\n",
    "%matplotlib inline\n",
    "import matplotlib.pyplot as plt\n",
    "import random\n",
    "import h5py\n",
    "import math\n",
    "\n",
    "img_location = '/ssd/data/fxpal_dataset/sequences/00/image_0009378.png'\n",
    "\n",
    "def downsampleImage(image):\n",
    "    assert image.shape[0] < image.shape[1], \"Image dimension 0 should be \" \\\n",
    "    \"smaller than image dimension 1\"\n",
    "    aspect_ratio = image.shape[0] / 256.\n",
    "    image = cv2.resize(image, (int(image.shape[1] / aspect_ratio), 256))\n",
    "    print('image shape after down sample: {}'.format(image.shape))\n",
    "    return image\n",
    "\n",
    "\n",
    "def randomCrop(image_in):\n",
    "\twidth = image_in.shape[0]\n",
    "\theight = image_in.shape[1]\n",
    "\tx_origin = random.randint(0, width - 224)\n",
    "\ty_origin = random.randint(0, height - 224)\n",
    "\timage = np.empty((224, 224, 3))\n",
    "\timage = image_in[x_origin:x_origin + 224, y_origin:y_origin + 224, :]\n",
    "\treturn image\n",
    "\n",
    "def centreCropImage(img, output_side_length):\n",
    "\tprint(img.shape)\n",
    "\theight, width, depth = img.shape\n",
    "\tcenter_pt_height = height / 2\n",
    "\tcenter_pt_width = width / 2\n",
    "\thalf_len = output_side_length / 2\n",
    "\tcropped_img = img[math.floor(center_pt_height - half_len):math.floor(center_pt_height + half_len), math.floor(center_pt_width - half_len) : math.floor(center_pt_width + half_len)]\n",
    "\treturn cropped_img\n",
    "\n",
    "X = cv2.imread(img_location)\n",
    "print('size of the image: {}'.format(X.shape) )\n",
    "fig = plt.figure()\n",
    "fig, ax = plt.subplots(figsize=(20, 10))\n",
    "grid = plt.subplot(2,3,1)\n",
    "grid.imshow(X)\n",
    "imgDownsample = downsampleImage(X)\n",
    "# imgRandom = randomCrop(imgDownsample)\n",
    "imgcenter = centreCropImage(imgDownsample, 224)\n",
    "\n",
    "grid = plt.subplot(2,3,2)\n",
    "grid.imshow(imgDownsample)\n",
    "grid = plt.subplot(2,3,3)\n",
    "grid.imshow(imgcenter)"
   ]
  }
 ],
 "metadata": {
  "kernelspec": {
   "display_name": "Python [conda env:tensorflow_keras]",
   "language": "python",
   "name": "conda-env-tensorflow_keras-py"
  },
  "language_info": {
   "codemirror_mode": {
    "name": "ipython",
    "version": 3
   },
   "file_extension": ".py",
   "mimetype": "text/x-python",
   "name": "python",
   "nbconvert_exporter": "python",
   "pygments_lexer": "ipython3",
   "version": "3.6.6"
  }
 },
 "nbformat": 4,
 "nbformat_minor": 2
}
